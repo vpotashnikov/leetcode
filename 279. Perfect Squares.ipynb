{
 "cells": [
  {
   "cell_type": "code",
   "execution_count": null,
   "id": "ed3ab1d6",
   "metadata": {},
   "outputs": [],
   "source": [
    "class Solution:\n",
    "    def numSquares(self, n: int) -> int:\n",
    "        k = int(n ** .5)\n",
    "        if k * k == n:\n",
    "            return (1)\n",
    "        var = [(i + 1) * (i + 1) for i in range(k)]\n",
    "        stk = [((i + 1) * (i + 1), 1, i) for i in range(k - 1, -1, -1)]\n",
    "        sst = [0 for i in range(n)]\n",
    "        for i in stk:\n",
    "            sst[i[0]] = 1\n",
    "        while len(stk) > 0:\n",
    "            x, stp, mx = stk.pop(0)\n",
    "            i = 0\n",
    "            while (i <= mx) and (x + var[i] <= n):\n",
    "                if x + var[i] == n:\n",
    "                    return (stp + 1)\n",
    "                if sst[x + var[i]] == 0: \n",
    "                    stk.append((x + var[i], stp + 1, i))\n",
    "                    sst[x + var[i]] = 1\n",
    "                i += 1\n",
    "        return -1"
   ]
  }
 ],
 "metadata": {
  "kernelspec": {
   "display_name": "Python 3 (ipykernel)",
   "language": "python",
   "name": "python3"
  },
  "language_info": {
   "codemirror_mode": {
    "name": "ipython",
    "version": 3
   },
   "file_extension": ".py",
   "mimetype": "text/x-python",
   "name": "python",
   "nbconvert_exporter": "python",
   "pygments_lexer": "ipython3",
   "version": "3.10.6"
  }
 },
 "nbformat": 4,
 "nbformat_minor": 5
}
