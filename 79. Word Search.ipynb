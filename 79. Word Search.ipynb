{
 "cells": [
  {
   "cell_type": "code",
   "execution_count": null,
   "id": "1477d639",
   "metadata": {},
   "outputs": [],
   "source": [
    "class Solution:\n",
    "    def exist(self, board: List[List[str]], word: str) -> bool:\n",
    "        # nword = len(word)\n",
    "        n1 = len(board)\n",
    "        n2 = len(board[0])\n",
    "        # self.board = board\n",
    "        # self.word = word#[::-1]\n",
    "        cc = [[0]*n2 for i in range(n1)]\n",
    "        # cc = [0]*(self.n1*self.n2)\n",
    "        for i in range(n1):\n",
    "            for j in range(n2):\n",
    "                if board[i][j] == word[0]:\n",
    "                    if self.chk(i, j, 1, cc, board, word):\n",
    "                        return True\n",
    "        return False\n",
    "    def chk(self, i: int, j: int, k: int, cc, board: List[List[str]], word: str) -> bool:\n",
    "        if cc[i][j] != 0 or board[i][j] != word[k - 1]:\n",
    "            return False\n",
    "        if k == len(word):\n",
    "            return True\n",
    "        cc[i][j] = 1\n",
    "        n1 = len(board)\n",
    "        n2 = len(board[0])\n",
    "        if ((i > 0) and self.chk(i - 1, j, k + 1, cc, board, word)) or ((j > 0) and self.chk(i, j - 1, k + 1, cc, board, word)) or ((i < n1 - 1) and self.chk(i + 1, j, k + 1, cc, board, word)) or ((j < n2 - 1) and self.chk(i, j + 1, k + 1, cc, board, word)):\n",
    "            return True\n",
    "        cc[i][j] = 0\n",
    "        return False"
   ]
  }
 ],
 "metadata": {
  "kernelspec": {
   "display_name": "Python 3 (ipykernel)",
   "language": "python",
   "name": "python3"
  },
  "language_info": {
   "codemirror_mode": {
    "name": "ipython",
    "version": 3
   },
   "file_extension": ".py",
   "mimetype": "text/x-python",
   "name": "python",
   "nbconvert_exporter": "python",
   "pygments_lexer": "ipython3",
   "version": "3.10.6"
  }
 },
 "nbformat": 4,
 "nbformat_minor": 5
}
