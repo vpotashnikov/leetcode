{
 "cells": [
  {
   "cell_type": "code",
   "execution_count": null,
   "id": "167617a6",
   "metadata": {},
   "outputs": [],
   "source": [
    "# Definition for singly-linked list.\n",
    "# class ListNode:\n",
    "#     def __init__(self, val=0, next=None):\n",
    "#         self.val = val\n",
    "#         self.next = next\n",
    "class Solution:\n",
    "    def isPalindrome(self, head: Optional[ListNode]) -> bool:\n",
    "        n = 1\n",
    "        if head.next == None:\n",
    "            return True\n",
    "        tmp = head\n",
    "        while  tmp.next != None:\n",
    "            tmp = tmp.next\n",
    "            n += 1\n",
    "        if n <= 1:\n",
    "            return True\n",
    "\n",
    "        tmp_last = None\n",
    "        a1 = head\n",
    "        \n",
    "        for i in range(n // 2):\n",
    "            a2 = a1.next\n",
    "            a1.next = tmp_last\n",
    "            a0 = a1\n",
    "            tmp_last = a1\n",
    "            a1 = a2    \n",
    "\n",
    "\n",
    "        if n % 2 == 1:\n",
    "            a1 = a1.next\n",
    "        while a0 != None:\n",
    "            if a0.val != a1.val:\n",
    "                return False\n",
    "            a1 = a1.next\n",
    "            a0 = a0.next\n",
    "        \n",
    "        \n",
    "        return True"
   ]
  }
 ],
 "metadata": {
  "kernelspec": {
   "display_name": "Python 3 (ipykernel)",
   "language": "python",
   "name": "python3"
  },
  "language_info": {
   "codemirror_mode": {
    "name": "ipython",
    "version": 3
   },
   "file_extension": ".py",
   "mimetype": "text/x-python",
   "name": "python",
   "nbconvert_exporter": "python",
   "pygments_lexer": "ipython3",
   "version": "3.10.6"
  }
 },
 "nbformat": 4,
 "nbformat_minor": 5
}
