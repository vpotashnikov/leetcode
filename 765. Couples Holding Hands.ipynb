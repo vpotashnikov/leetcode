{
 "cells": [
  {
   "cell_type": "code",
   "execution_count": null,
   "id": "52ab38b8",
   "metadata": {},
   "outputs": [],
   "source": [
    "class Solution:\n",
    "    def minSwapsCouples(self, row: List[int]) -> int:\n",
    "        rs = []\n",
    "        for i in range(len(row) // 2):\n",
    "            if row[2 * i] // 2 != row[2 * i + 1] // 2:\n",
    "                rs.append(row[2 * i])\n",
    "                rs.append(row[2 * i + 1])\n",
    "        row = rs\n",
    "        if len(row) == 0:\n",
    "            return 0\n",
    "        k = 0\n",
    "        while len(row) != 4:\n",
    "            k += 1\n",
    "            row = self.make_var(row)\n",
    "        return k + 1 \n",
    "    def make_var(self, row):\n",
    "        mps = {}\n",
    "        use = set()\n",
    "        for i in range(len(row)):\n",
    "            nn = row[i] // 2\n",
    "            if not(nn) in mps:\n",
    "                mps[nn] = [i]\n",
    "            else:\n",
    "                mps[nn].append(i)\n",
    "                tmp = mps[nn]\n",
    "                if (tmp[0] // 2, tmp[1] // 2) in use:\n",
    "                    i = 2 * (tmp[0] // 2) + 1 - (tmp[0] % 2)\n",
    "                    j = tmp[1]\n",
    "                    dd = set([2 * (i // 2), 2 * (i // 2) + 1, 2 * (j // 2), 2 * (j // 2) + 1])\n",
    "                    return [row[i] for i in range(len(row)) if not(i in dd)]\n",
    "                use.add((tmp[0] // 2, tmp[1] // 2))\n",
    "                \n",
    "        tmp = mps[list(mps)[0]]\n",
    "        i = 2 * (tmp[0] // 2) + 1 - (tmp[0] % 2)\n",
    "        j = tmp[1]\n",
    "        \n",
    "        row[j] = row[i]\n",
    "        d1, d2  = (2 * (i // 2), 2 * (i // 2) + 1)\n",
    "        return [row[i] for i in range(len(row)) if i != d1 and i != d2]"
   ]
  }
 ],
 "metadata": {
  "kernelspec": {
   "display_name": "Python 3 (ipykernel)",
   "language": "python",
   "name": "python3"
  },
  "language_info": {
   "codemirror_mode": {
    "name": "ipython",
    "version": 3
   },
   "file_extension": ".py",
   "mimetype": "text/x-python",
   "name": "python",
   "nbconvert_exporter": "python",
   "pygments_lexer": "ipython3",
   "version": "3.10.6"
  }
 },
 "nbformat": 4,
 "nbformat_minor": 5
}
