{
 "cells": [
  {
   "cell_type": "code",
   "execution_count": null,
   "id": "6234823b",
   "metadata": {},
   "outputs": [],
   "source": [
    "class Solution:\n",
    "    def longestValidParentheses(self, s: str) -> int:\n",
    "        if len(s) == 0:\n",
    "            return 0\n",
    "        stk = [0] * len(s)\n",
    "        n = 0\n",
    "        mk = 0\n",
    "        for i in s:\n",
    "            if i == '(':\n",
    "                stk[n] = -1\n",
    "                n += 1\n",
    "            else:\n",
    "                if n > 0 and stk[n - 1] == -1:\n",
    "                    stk[n - 1] = 1\n",
    "                elif n > 1 and stk[n - 1] > 0 and stk[n - 2] == -1:\n",
    "                    stk[n - 2] = 1 + stk[n - 1]\n",
    "                    n -= 1\n",
    "                else:\n",
    "                    stk[n] = -2\n",
    "                    n += 1\n",
    "                while n > 1 and stk[n - 1] > 0 and stk[n - 2] > 0:\n",
    "                    stk[n - 2] = stk[n - 2] + stk[n - 1]\n",
    "                    n -= 1\n",
    "                if n > 0 and mk < stk[n - 1]:\n",
    "                    mk = stk[n - 1]\n",
    "        return 2 * mk"
   ]
  }
 ],
 "metadata": {
  "kernelspec": {
   "display_name": "Python 3 (ipykernel)",
   "language": "python",
   "name": "python3"
  },
  "language_info": {
   "codemirror_mode": {
    "name": "ipython",
    "version": 3
   },
   "file_extension": ".py",
   "mimetype": "text/x-python",
   "name": "python",
   "nbconvert_exporter": "python",
   "pygments_lexer": "ipython3",
   "version": "3.10.6"
  }
 },
 "nbformat": 4,
 "nbformat_minor": 5
}
