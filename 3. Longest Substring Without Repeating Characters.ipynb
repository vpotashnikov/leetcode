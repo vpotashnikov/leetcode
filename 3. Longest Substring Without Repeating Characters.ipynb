{
 "cells": [
  {
   "cell_type": "code",
   "execution_count": null,
   "id": "d3616b27",
   "metadata": {},
   "outputs": [],
   "source": [
    "class Solution:\n",
    "    def lengthOfLongestSubstring(self, s: str) -> int:\n",
    "        mp = {}\n",
    "        mk = 0\n",
    "        y = 0\n",
    "        p = 0\n",
    "        for i in s:\n",
    "            p += 1\n",
    "            if (not(i in mp)) or (mp[i] == False):\n",
    "                mp[i] = True\n",
    "                if p - y + 1 > mk:\n",
    "                    mk = p - y\n",
    "            else:\n",
    "                while s[y] != i:\n",
    "                    mp[s[y]] = False\n",
    "                    y += 1\n",
    "                y += 1\n",
    "        return (mk)\n"
   ]
  }
 ],
 "metadata": {
  "kernelspec": {
   "display_name": "Python 3 (ipykernel)",
   "language": "python",
   "name": "python3"
  },
  "language_info": {
   "codemirror_mode": {
    "name": "ipython",
    "version": 3
   },
   "file_extension": ".py",
   "mimetype": "text/x-python",
   "name": "python",
   "nbconvert_exporter": "python",
   "pygments_lexer": "ipython3",
   "version": "3.10.6"
  }
 },
 "nbformat": 4,
 "nbformat_minor": 5
}
