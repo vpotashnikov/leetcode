{
 "cells": [
  {
   "cell_type": "code",
   "execution_count": null,
   "id": "e1bd2255",
   "metadata": {},
   "outputs": [],
   "source": [
    "class Solution:\n",
    "    def firstMissingPositive(self, nums: List[int]) -> int:\n",
    "        i, n = 0, len(nums)\n",
    "        while i < n:\n",
    "            k = nums[i] - 1\n",
    "            while k >= 0 and k < n and nums[k] != k + 1:\n",
    "                j = nums[k]\n",
    "                nums[k] = k + 1\n",
    "                k = j - 1\n",
    "            if nums[i] == i + 1:\n",
    "                i += 1\n",
    "            else:\n",
    "                nums[i] = nums[n - 1]\n",
    "                n -= 1\n",
    "        return i + 1"
   ]
  }
 ],
 "metadata": {
  "kernelspec": {
   "display_name": "Python 3 (ipykernel)",
   "language": "python",
   "name": "python3"
  },
  "language_info": {
   "codemirror_mode": {
    "name": "ipython",
    "version": 3
   },
   "file_extension": ".py",
   "mimetype": "text/x-python",
   "name": "python",
   "nbconvert_exporter": "python",
   "pygments_lexer": "ipython3",
   "version": "3.10.6"
  }
 },
 "nbformat": 4,
 "nbformat_minor": 5
}
