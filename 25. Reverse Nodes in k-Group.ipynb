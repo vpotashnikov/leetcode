{
 "cells": [
  {
   "cell_type": "code",
   "execution_count": null,
   "id": "306571bc",
   "metadata": {},
   "outputs": [],
   "source": [
    "# Definition for singly-linked list.\n",
    "# class ListNode:\n",
    "#     def __init__(self, val=0, next=None):\n",
    "#         self.val = val\n",
    "#         self.next = next\n",
    "class Solution:\n",
    "    def reverseKGroup(self, head: Optional[ListNode], k: int) -> Optional[ListNode]:\n",
    "        if k == 1:\n",
    "            return head\n",
    "        \n",
    "        tot_len = 0\n",
    "        a1 = head\n",
    "        while a1 != None:\n",
    "            a1 = a1.next\n",
    "            tot_len += 1\n",
    "        \n",
    "        \n",
    "        a1 = head\n",
    "        a_prev = None\n",
    "        \n",
    "        for it in range(tot_len // k):\n",
    "            \n",
    "            a_prev2 = a_prev\n",
    "            a_prev = a1\n",
    "            a2 = a1.next\n",
    "            \n",
    "            for i in range(k - 1):\n",
    "                tmp = a2.next\n",
    "                a2.next = a1\n",
    "                a1 = a2\n",
    "                a2 = tmp    \n",
    "                \n",
    "            a_prev.next = a2\n",
    "            if it == 0:\n",
    "                head = a1\n",
    "            else:\n",
    "                a_prev2.next = a1\n",
    "            a1 = a2\n",
    "            \n",
    "        return head"
   ]
  }
 ],
 "metadata": {
  "kernelspec": {
   "display_name": "Python 3 (ipykernel)",
   "language": "python",
   "name": "python3"
  },
  "language_info": {
   "codemirror_mode": {
    "name": "ipython",
    "version": 3
   },
   "file_extension": ".py",
   "mimetype": "text/x-python",
   "name": "python",
   "nbconvert_exporter": "python",
   "pygments_lexer": "ipython3",
   "version": "3.10.6"
  }
 },
 "nbformat": 4,
 "nbformat_minor": 5
}
