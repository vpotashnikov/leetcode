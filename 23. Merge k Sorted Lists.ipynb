{
 "cells": [
  {
   "cell_type": "code",
   "execution_count": null,
   "id": "9a66f7ef",
   "metadata": {},
   "outputs": [],
   "source": [
    "# Definition for singly-linked list.\n",
    "# class ListNode:\n",
    "#     def __init__(self, val=0, next=None):\n",
    "#         self.val = val\n",
    "#         self.next = next\n",
    "class Solution:\n",
    "    def mergeKLists(self, lists: List[Optional[ListNode]]) -> Optional[ListNode]:\n",
    "        i = 0\n",
    "        while i < len(lists):\n",
    "            if lists[i] == None:\n",
    "                del lists[i]\n",
    "            else:\n",
    "                i += 1\n",
    "        if len(lists) == 0:\n",
    "            return None\n",
    "        st = 1\n",
    "        kkk = 0\n",
    "        while st < len(lists):\n",
    "            i = 0\n",
    "            while i + st < len(lists):\n",
    "                if lists[i].val <= lists[i + st].val:\n",
    "                    k1 = lists[i]\n",
    "                    k2 = lists[i + st]\n",
    "                else:\n",
    "                    k1 = lists[i + st]\n",
    "                    k2 = lists[i]\n",
    "                    lists[i] = k1\n",
    "                while k1.next != None and k2 != None:\n",
    "                    if k1.next.val > k2.val:\n",
    "                        tmp = k2\n",
    "                        k2 = k1.next\n",
    "                        k1.next = tmp\n",
    "                    k1 = k1.next\n",
    "                k1.next = k2\n",
    "                i += 2 * st\n",
    "            \n",
    "            st *= 2\n",
    "        return lists[0]"
   ]
  }
 ],
 "metadata": {
  "kernelspec": {
   "display_name": "Python 3 (ipykernel)",
   "language": "python",
   "name": "python3"
  },
  "language_info": {
   "codemirror_mode": {
    "name": "ipython",
    "version": 3
   },
   "file_extension": ".py",
   "mimetype": "text/x-python",
   "name": "python",
   "nbconvert_exporter": "python",
   "pygments_lexer": "ipython3",
   "version": "3.10.6"
  }
 },
 "nbformat": 4,
 "nbformat_minor": 5
}
