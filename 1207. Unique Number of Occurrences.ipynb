{
 "cells": [
  {
   "cell_type": "code",
   "execution_count": null,
   "id": "9c0086b4",
   "metadata": {},
   "outputs": [],
   "source": [
    "class Solution:\n",
    "    def uniqueOccurrences(self, arr: List[int]) -> bool:\n",
    "        mp = {}\n",
    "        kk = []\n",
    "        for i in arr:\n",
    "            if i in mp:\n",
    "                kk[mp[i]] += 1\n",
    "            else:\n",
    "                mp[i] = len(kk)\n",
    "                kk.append(1)\n",
    "        return len(set(kk)) == len(kk)"
   ]
  }
 ],
 "metadata": {
  "kernelspec": {
   "display_name": "Python 3 (ipykernel)",
   "language": "python",
   "name": "python3"
  },
  "language_info": {
   "codemirror_mode": {
    "name": "ipython",
    "version": 3
   },
   "file_extension": ".py",
   "mimetype": "text/x-python",
   "name": "python",
   "nbconvert_exporter": "python",
   "pygments_lexer": "ipython3",
   "version": "3.10.6"
  }
 },
 "nbformat": 4,
 "nbformat_minor": 5
}
