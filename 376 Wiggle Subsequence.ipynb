{
 "cells": [
  {
   "cell_type": "code",
   "execution_count": null,
   "id": "1c641ca9",
   "metadata": {},
   "outputs": [],
   "source": [
    "class Solution:\n",
    "    def wiggleMaxLength(self, nums: List[int]) -> int:\n",
    "        i = 0\n",
    "        k = 0\n",
    "        mx = nums[0]\n",
    "        while i + 1 < len(nums) and nums[i] == nums[i + 1]:\n",
    "            i += 1\n",
    "        if i + 1 >= len(nums):\n",
    "            return 1\n",
    "        if nums[i] > nums[i + 1]:  \n",
    "            while i < len(nums) and nums[i] >= mx:\n",
    "                mx = nums[i]\n",
    "                i += 1\n",
    "            k += 1\n",
    "        while i < len(nums):\n",
    "            while i < len(nums) and nums[i] <= mx:\n",
    "                mx = nums[i]\n",
    "                i += 1\n",
    "            k += 1\n",
    "            if i < len(nums):\n",
    "                k += 1\n",
    "            while i < len(nums) and nums[i] >= mx:\n",
    "                mx = nums[i]\n",
    "                i += 1\n",
    "        return k\n",
    "            \n",
    "            \n",
    "                "
   ]
  }
 ],
 "metadata": {
  "kernelspec": {
   "display_name": "Python 3 (ipykernel)",
   "language": "python",
   "name": "python3"
  },
  "language_info": {
   "codemirror_mode": {
    "name": "ipython",
    "version": 3
   },
   "file_extension": ".py",
   "mimetype": "text/x-python",
   "name": "python",
   "nbconvert_exporter": "python",
   "pygments_lexer": "ipython3",
   "version": "3.10.6"
  }
 },
 "nbformat": 4,
 "nbformat_minor": 5
}
