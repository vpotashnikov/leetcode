{
 "cells": [
  {
   "cell_type": "code",
   "execution_count": null,
   "id": "e9b075e2",
   "metadata": {},
   "outputs": [],
   "source": [
    "class Solution:\n",
    "    def poorPigs(self, buckets: int, minutesToDie: int, minutesToTest: int) -> int:\n",
    "        it = minutesToTest // minutesToDie\n",
    "        k = math.floor(math.log(buckets) / (math.log(it + 1)))\n",
    "        if (it + 1) ** k < buckets:\n",
    "            k += 1\n",
    "        return(k)"
   ]
  }
 ],
 "metadata": {
  "kernelspec": {
   "display_name": "Python 3 (ipykernel)",
   "language": "python",
   "name": "python3"
  },
  "language_info": {
   "codemirror_mode": {
    "name": "ipython",
    "version": 3
   },
   "file_extension": ".py",
   "mimetype": "text/x-python",
   "name": "python",
   "nbconvert_exporter": "python",
   "pygments_lexer": "ipython3",
   "version": "3.10.6"
  }
 },
 "nbformat": 4,
 "nbformat_minor": 5
}
