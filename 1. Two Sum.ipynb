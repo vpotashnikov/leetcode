{
 "cells": [
  {
   "cell_type": "code",
   "execution_count": null,
   "id": "860fbcba",
   "metadata": {},
   "outputs": [],
   "source": [
    "class Solution:\n",
    "    def twoSum(self, nums: List[int], target: int) -> List[int]:\n",
    "        zz = nums.copy()\n",
    "        zz.sort()\n",
    "        \n",
    "        i = 0\n",
    "        j = len(zz) - 1\n",
    "        while i < j:\n",
    "            while zz[i] + zz[j] > target:\n",
    "                j -= 1\n",
    "            if i != j and zz[i] + zz[j] == target:\n",
    "                if zz[i] == zz[j]:\n",
    "                    kk = [k for k in range(len(nums)) if nums[k] == zz[i]]\n",
    "                    return [kk[0], kk[1]]\n",
    "                else:\n",
    "                    return [[k for k in range(len(nums)) if nums[k] == zz[i]][0], \n",
    "                            [k for k in range(len(nums)) if nums[k] == zz[j]][0]]   \n",
    "            i += 1\n",
    "            while i < j and zz[i - 1] == zz[i]:\n",
    "                i += 1\n",
    "            \n",
    "        "
   ]
  }
 ],
 "metadata": {
  "kernelspec": {
   "display_name": "Python 3 (ipykernel)",
   "language": "python",
   "name": "python3"
  },
  "language_info": {
   "codemirror_mode": {
    "name": "ipython",
    "version": 3
   },
   "file_extension": ".py",
   "mimetype": "text/x-python",
   "name": "python",
   "nbconvert_exporter": "python",
   "pygments_lexer": "ipython3",
   "version": "3.10.6"
  }
 },
 "nbformat": 4,
 "nbformat_minor": 5
}
