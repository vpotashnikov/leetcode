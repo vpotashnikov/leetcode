{
 "cells": [
  {
   "cell_type": "code",
   "execution_count": null,
   "id": "75e31400",
   "metadata": {},
   "outputs": [],
   "source": [
    "class Solution:\n",
    "    def findSubstring(self, s: str, words: List[str]) -> List[int]:\n",
    "        if len(s) < len(words) * len(words[0]):\n",
    "            return []\n",
    "        mpp = {}\n",
    "        mpc = []\n",
    "        nl = len(words[0])\n",
    "        for i in range(len(words)):\n",
    "            if not (words[i] in mpp):\n",
    "                mpp[words[i]] = len(mpp)\n",
    "                mpc.append(1)\n",
    "            else:\n",
    "                mpc[mpp[words[i]]] += 1\n",
    "        \n",
    "        rs = []\n",
    "        \n",
    "        for yyy in range(nl):\n",
    "            nk = [-1] * (len(s) // nl)\n",
    "\n",
    "            for i in range(len(s) // nl):\n",
    "                tmp = s[(nl * i):(nl * (i + 1))]\n",
    "                if tmp in mpp:\n",
    "                    nk[i] = mpp[tmp]\n",
    "\n",
    "            tmp = [0] * len(mpc)\n",
    "\n",
    "            for i in range(len(words)):\n",
    "                if nk[i] >= 0:\n",
    "                    tmp[nk[i]] += 1\n",
    "\n",
    "            i += 1\n",
    "\n",
    "            if tmp == mpc:\n",
    "                rs.append(-yyy)\n",
    "\n",
    "            while i < len(nk): \n",
    "                if nk[i - len(words)] >= 0:\n",
    "                    tmp[nk[i - len(words)]] -= 1\n",
    "                if nk[i] >= 0:\n",
    "                    tmp[nk[i]] += 1\n",
    "                if tmp == mpc:\n",
    "                    rs.append(-yyy + (i - len(words) + 1) * nl)\n",
    "                i += 1\n",
    "            s = '#' + s\n",
    "        return rs\n",
    "    \n",
    "    \n",
    "    \n",
    "    \n"
   ]
  }
 ],
 "metadata": {
  "kernelspec": {
   "display_name": "Python 3 (ipykernel)",
   "language": "python",
   "name": "python3"
  },
  "language_info": {
   "codemirror_mode": {
    "name": "ipython",
    "version": 3
   },
   "file_extension": ".py",
   "mimetype": "text/x-python",
   "name": "python",
   "nbconvert_exporter": "python",
   "pygments_lexer": "ipython3",
   "version": "3.10.6"
  }
 },
 "nbformat": 4,
 "nbformat_minor": 5
}
