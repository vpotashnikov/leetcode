{
 "cells": [
  {
   "cell_type": "code",
   "execution_count": null,
   "id": "5a6f4bb7",
   "metadata": {},
   "outputs": [],
   "source": [
    "# Definition for singly-linked list.\n",
    "# class ListNode:\n",
    "#     def __init__(self, val=0, next=None):\n",
    "#         self.val = val\n",
    "#         self.next = next\n",
    "class Solution:\n",
    "    def addTwoNumbers(self, l1: Optional[ListNode], l2: Optional[ListNode]) -> Optional[ListNode]:\n",
    "        k = l1\n",
    "        add = 0\n",
    "        while l1 != None and l2 != None:\n",
    "            l1_last = l1\n",
    "            add = l1.val + l2.val + add\n",
    "            l1.val = add % 10\n",
    "            add = add // 10\n",
    "            l1 = l1.next\n",
    "            l2 = l2.next\n",
    "            \n",
    "        if l1 == None and l2 != None:\n",
    "            l1_last.next = l2\n",
    "            l1 = l2\n",
    "            l2 = None\n",
    "            \n",
    "        while l1 != None and add != 0:\n",
    "            l1_last = l1\n",
    "            add = l1.val + add\n",
    "            l1.val = add % 10\n",
    "            add = add // 10\n",
    "            l1 = l1.next\n",
    "            \n",
    "        if add != 0:\n",
    "            l1_last.next = ListNode(val = add)\n",
    "            \n",
    "        return k\n",
    "        "
   ]
  }
 ],
 "metadata": {
  "kernelspec": {
   "display_name": "Python 3 (ipykernel)",
   "language": "python",
   "name": "python3"
  },
  "language_info": {
   "codemirror_mode": {
    "name": "ipython",
    "version": 3
   },
   "file_extension": ".py",
   "mimetype": "text/x-python",
   "name": "python",
   "nbconvert_exporter": "python",
   "pygments_lexer": "ipython3",
   "version": "3.10.6"
  }
 },
 "nbformat": 4,
 "nbformat_minor": 5
}
