{
 "cells": [
  {
   "cell_type": "code",
   "execution_count": null,
   "id": "f5d7f486",
   "metadata": {},
   "outputs": [],
   "source": [
    "class Solution:\n",
    "    def find_grain(self, h: int, horizontalCuts: List[int]) -> int:\n",
    "        if len(horizontalCuts) == 0:\n",
    "            return(h)\n",
    "        horizontalCuts.sort()\n",
    "        mx = h - horizontalCuts[len(horizontalCuts) - 1]\n",
    "        cnd =  horizontalCuts[0]\n",
    "        if cnd > mx:\n",
    "            mx = cnd\n",
    "        if len(horizontalCuts) > 1:\n",
    "            cnd = max([horizontalCuts[i] - horizontalCuts[i - 1] for i in range(1, len(horizontalCuts))])\n",
    "            if cnd > mx:\n",
    "                mx = cnd\n",
    "        mx = mx % (1000000007)\n",
    "        return mx\n",
    "    def maxArea(self, h: int, w: int, horizontalCuts: List[int], verticalCuts: List[int]) -> int:\n",
    "        hh = self.find_grain(h, horizontalCuts) * self.find_grain(w, verticalCuts)\n",
    "        return (hh  % (1000000007))"
   ]
  }
 ],
 "metadata": {
  "kernelspec": {
   "display_name": "Python 3 (ipykernel)",
   "language": "python",
   "name": "python3"
  },
  "language_info": {
   "codemirror_mode": {
    "name": "ipython",
    "version": 3
   },
   "file_extension": ".py",
   "mimetype": "text/x-python",
   "name": "python",
   "nbconvert_exporter": "python",
   "pygments_lexer": "ipython3",
   "version": "3.10.6"
  }
 },
 "nbformat": 4,
 "nbformat_minor": 5
}
