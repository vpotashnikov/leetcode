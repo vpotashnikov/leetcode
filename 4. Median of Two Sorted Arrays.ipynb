{
 "cells": [
  {
   "cell_type": "code",
   "execution_count": null,
   "id": "5990b1de",
   "metadata": {},
   "outputs": [],
   "source": [
    "class Solution:\n",
    "    def findMedianSortedArrays(self, nums1: List[int], nums2: List[int]) -> float:\n",
    "        l1 = len(nums1)\n",
    "        l2 = len(nums2)\n",
    "        tot = l1 + l2\n",
    "        tot2 = (tot) // 2 + tot % 2 - 1\n",
    "        \n",
    "        \n",
    "        a1 = -1\n",
    "        a2 = -1\n",
    "        st1 = tot2\n",
    "        if st1 < 1:\n",
    "            st1 = 1\n",
    "        while a1 + a2 + 2 <= tot2:\n",
    "            while a1 + a2 + st1 + st1 > tot2:\n",
    "                st1 = st1 // 2\n",
    "            if a2 + st1 >= l2 or (a1 + st1 < l1 and nums1[a1 + st1] <= nums2[a2 + st1]):\n",
    "                a1 += st1\n",
    "            else:\n",
    "                a2 += st1\n",
    "        \n",
    "            \n",
    "        if a2 < 0 or a2 >= l2 or (a1 >= 0 and nums1[a1] > nums2[a2]):\n",
    "            x1 = nums1[a1]\n",
    "        else:\n",
    "            x1 = nums2[a2]\n",
    "            \n",
    "        if tot % 2 == 1:\n",
    "            return x1    \n",
    "        \n",
    "        a1 += 1\n",
    "        a2 += 1\n",
    "        \n",
    "\n",
    "        if a2 >= l2 or (a1 < l1 and nums1[a1] < nums2[a2]):\n",
    "            x2 = nums1[a1]\n",
    "        else:\n",
    "            x2 = nums2[a2]\n",
    "            \n",
    "        return .5 * (x1 + x2)\n"
   ]
  }
 ],
 "metadata": {
  "kernelspec": {
   "display_name": "Python 3 (ipykernel)",
   "language": "python",
   "name": "python3"
  },
  "language_info": {
   "codemirror_mode": {
    "name": "ipython",
    "version": 3
   },
   "file_extension": ".py",
   "mimetype": "text/x-python",
   "name": "python",
   "nbconvert_exporter": "python",
   "pygments_lexer": "ipython3",
   "version": "3.10.6"
  }
 },
 "nbformat": 4,
 "nbformat_minor": 5
}
