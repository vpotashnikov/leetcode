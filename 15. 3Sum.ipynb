{
 "cells": [
  {
   "cell_type": "code",
   "execution_count": null,
   "id": "0a4e04a3",
   "metadata": {},
   "outputs": [],
   "source": [
    "class Solution:\n",
    "    def threeSum(self, nums: List[int]) -> List[List[int]]:\n",
    "        def find_min(i, xx):\n",
    "            tot = len(xx) - i\n",
    "            k = len(xx) - 1\n",
    "            while tot != 0:\n",
    "                if k - tot > i + 1 and xx[i] + xx[i + 1] + xx[k - tot] >= 0:\n",
    "                    k -= tot\n",
    "                tot = tot // 2\n",
    "            return k\n",
    "        \n",
    "        xx = nums\n",
    "        xx.sort()\n",
    "        i = 0\n",
    "        rs = [[]] * 100\n",
    "        it = 0\n",
    "        while i < len(xx) - 2 and xx[i] <= 0:\n",
    "            j = i + 1\n",
    "            k = find_min(i, xx)\n",
    "            while j < k and xx[i] + xx[j] <= 0:\n",
    "                while j < k and xx[i] + xx[j] + xx[k] > 0:\n",
    "                    k -= 1\n",
    "                if j != k and xx[i] + xx[j] + xx[k] == 0:\n",
    "                    if it >= len(rs):\n",
    "                        rs = rs + 100 * [[]]\n",
    "                    # print(it, len(rs))\n",
    "                    rs[it] = [xx[i], xx[j], xx[k]]\n",
    "                    it += 1\n",
    "                        \n",
    "                j += 1\n",
    "                while j < len(xx) - 1 and xx[j] == xx[j - 1]:\n",
    "                    j += 1\n",
    "            \n",
    "            \n",
    "            i += 1\n",
    "            while i < len(xx) - 2 and xx[i] == xx[i - 1]:\n",
    "                i += 1\n",
    "        return rs[0:it]\n",
    "        \n",
    "        \n"
   ]
  }
 ],
 "metadata": {
  "kernelspec": {
   "display_name": "Python 3 (ipykernel)",
   "language": "python",
   "name": "python3"
  },
  "language_info": {
   "codemirror_mode": {
    "name": "ipython",
    "version": 3
   },
   "file_extension": ".py",
   "mimetype": "text/x-python",
   "name": "python",
   "nbconvert_exporter": "python",
   "pygments_lexer": "ipython3",
   "version": "3.10.6"
  }
 },
 "nbformat": 4,
 "nbformat_minor": 5
}
