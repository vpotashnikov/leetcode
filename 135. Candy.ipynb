{
 "cells": [
  {
   "cell_type": "code",
   "execution_count": null,
   "id": "1d3529be",
   "metadata": {},
   "outputs": [],
   "source": [
    "class Solution:\n",
    "    def candy(self, ratings: List[int]) -> int:\n",
    "        cnd = len(ratings) * [0]\n",
    "   \n",
    "\n",
    "        def half2(a_st: int, b_en: int) -> None:\n",
    "            if ratings[a_st] > ratings[b_en - 1]:\n",
    "                cnd[a_st] = 1\n",
    "            elif ratings[a_st] < ratings[b_en - 1]:\n",
    "                cnd[b_en - 1] = 1\n",
    "\n",
    "        def half(a_st: int, b_en: int) -> None:\n",
    "            \n",
    "            md = (a_st + b_en) // 2\n",
    "            if md - a_st > 2:\n",
    "                half(a_st, md)\n",
    "            elif md - a_st == 2:    \n",
    "                half2(a_st, md)\n",
    "            if b_en - md > 2:\n",
    "                half(md, b_en)\n",
    "            elif b_en - md == 2:    \n",
    "                half2(md, b_en)\n",
    "\n",
    "            # From left to right\n",
    "            if ratings[md - 1] > ratings[md]:\n",
    "                i = md - 1\n",
    "                while i >= a_st and ratings[i] > ratings[i + 1] and cnd[i] <= cnd[i + 1]:\n",
    "                    cnd[i] = cnd[i + 1] + 1\n",
    "                    i -= 1\n",
    "            elif ratings[md] > ratings[md - 1]:\n",
    "                i = md\n",
    "                while i < b_en and ratings[i] > ratings[i - 1] and cnd[i] <= cnd[i - 1]:\n",
    "                    cnd[i] = cnd[i - 1] + 1\n",
    "                    i += 1\n",
    "                \n",
    "        if len(ratings) == 2:\n",
    "            half2(0, len(ratings))\n",
    "        elif len(ratings) > 2:\n",
    "            half(0, len(ratings))\n",
    "        \n",
    "        return sum(cnd) + len(ratings)\n",
    "                    "
   ]
  }
 ],
 "metadata": {
  "kernelspec": {
   "display_name": "Python 3 (ipykernel)",
   "language": "python",
   "name": "python3"
  },
  "language_info": {
   "codemirror_mode": {
    "name": "ipython",
    "version": 3
   },
   "file_extension": ".py",
   "mimetype": "text/x-python",
   "name": "python",
   "nbconvert_exporter": "python",
   "pygments_lexer": "ipython3",
   "version": "3.10.6"
  }
 },
 "nbformat": 4,
 "nbformat_minor": 5
}
