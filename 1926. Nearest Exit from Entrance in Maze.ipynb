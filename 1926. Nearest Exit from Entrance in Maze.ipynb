{
 "cells": [
  {
   "cell_type": "code",
   "execution_count": null,
   "id": "3beab978",
   "metadata": {},
   "outputs": [],
   "source": [
    "class Solution:\n",
    "    def nearestExit(self, maze: List[List[str]], entrance: List[int]) -> int:\n",
    "        coln = len(maze[0])\n",
    "        rown = len(maze)\n",
    "        maze[entrance[0]][entrance[1]] = '+'\n",
    "        entrance.append(1)\n",
    "        stk = [entrance]\n",
    "        while (len(stk) > 0):\n",
    "            rr, cc, stp = stk.pop(0)\n",
    "            rvar = []\n",
    "            if rr > 0:\n",
    "                rvar.append((rr - 1, cc))\n",
    "            if cc > 0:\n",
    "                rvar.append((rr, cc - 1))\n",
    "            if cc < coln - 1:\n",
    "                rvar.append((rr, cc + 1))\n",
    "            if rr < rown - 1:\n",
    "                rvar.append((rr + 1, cc))\n",
    "            for j in range(len(rvar)):\n",
    "                r2, c2 = rvar[j]\n",
    "                if maze[r2][c2] != '+':\n",
    "                    if ((r2 == 0) + (c2 == 0) + (r2 == rown - 1) + (c2 == coln - 1)):\n",
    "                        return (stp)\n",
    "                    maze[r2][c2] = '+'\n",
    "                    stk.append([r2, c2, stp + 1])\n",
    "        return (-1)\n",
    "        \n",
    "        \n",
    "        "
   ]
  }
 ],
 "metadata": {
  "kernelspec": {
   "display_name": "Python 3 (ipykernel)",
   "language": "python",
   "name": "python3"
  },
  "language_info": {
   "codemirror_mode": {
    "name": "ipython",
    "version": 3
   },
   "file_extension": ".py",
   "mimetype": "text/x-python",
   "name": "python",
   "nbconvert_exporter": "python",
   "pygments_lexer": "ipython3",
   "version": "3.10.6"
  }
 },
 "nbformat": 4,
 "nbformat_minor": 5
}
