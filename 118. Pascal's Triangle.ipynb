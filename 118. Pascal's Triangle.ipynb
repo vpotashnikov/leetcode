{
 "cells": [
  {
   "cell_type": "code",
   "execution_count": null,
   "id": "dcc9e40a",
   "metadata": {},
   "outputs": [],
   "source": [
    "class Solution:\n",
    "    def generate(self, numRows: int) -> List[List[int]]:\n",
    "        if numRows == 0:\n",
    "            return []\n",
    "        tmp = [1]\n",
    "        rs = []\n",
    "        rs.append(tmp)\n",
    "        for i in range(1, numRows):\n",
    "            tmp1 = [0] + tmp\n",
    "            tmp2 = tmp + [0]\n",
    "            tmp = []\n",
    "            for j in range(len(tmp1)):\n",
    "                tmp1[j] += tmp2[j]\n",
    "            tmp = tmp1\n",
    "            rs.append(tmp)\n",
    "        return rs"
   ]
  }
 ],
 "metadata": {
  "kernelspec": {
   "display_name": "Python 3 (ipykernel)",
   "language": "python",
   "name": "python3"
  },
  "language_info": {
   "codemirror_mode": {
    "name": "ipython",
    "version": 3
   },
   "file_extension": ".py",
   "mimetype": "text/x-python",
   "name": "python",
   "nbconvert_exporter": "python",
   "pygments_lexer": "ipython3",
   "version": "3.10.6"
  }
 },
 "nbformat": 4,
 "nbformat_minor": 5
}
