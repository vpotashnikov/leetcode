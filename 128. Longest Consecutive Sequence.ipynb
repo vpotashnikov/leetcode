{
 "cells": [
  {
   "cell_type": "code",
   "execution_count": null,
   "id": "f4a5b06b",
   "metadata": {},
   "outputs": [],
   "source": [
    "class Solution:\n",
    "                    \n",
    "                    \n",
    "    def longestConsecutive(self, nums: List[int]) -> int:\n",
    "        if len(nums) == 0:\n",
    "            return 0\n",
    "        nums.sort()\n",
    "        mx = 1\n",
    "        i = 0\n",
    "        while i < len(nums):\n",
    "            st = nums[i]\n",
    "            while i + 1 < len(nums) and nums[i + 1] - nums[i] <= 1:\n",
    "                i += 1\n",
    "            if mx < nums[i] - st + 1:\n",
    "                mx = nums[i] - st + 1\n",
    "            i += 1\n",
    "            \n",
    "        return mx\n",
    "                \n",
    "                \n",
    "        "
   ]
  }
 ],
 "metadata": {
  "kernelspec": {
   "display_name": "Python 3 (ipykernel)",
   "language": "python",
   "name": "python3"
  },
  "language_info": {
   "codemirror_mode": {
    "name": "ipython",
    "version": 3
   },
   "file_extension": ".py",
   "mimetype": "text/x-python",
   "name": "python",
   "nbconvert_exporter": "python",
   "pygments_lexer": "ipython3",
   "version": "3.10.6"
  }
 },
 "nbformat": 4,
 "nbformat_minor": 5
}
