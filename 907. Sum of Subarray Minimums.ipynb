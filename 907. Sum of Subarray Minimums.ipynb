{
 "cells": [
  {
   "cell_type": "code",
   "execution_count": null,
   "id": "75304bac",
   "metadata": {},
   "outputs": [],
   "source": [
    "class Solution:\n",
    "    def sumSubarrayMins(self, arr: List[int]) -> int:\n",
    "        res, it, nn = 0, 0, len(arr)\n",
    "        all_lst2 = [0] * nn\n",
    "        for i in range(nn): \n",
    "            while it > 0 and arr[all_lst2[it - 1]] > arr[i]:\n",
    "                a2 = all_lst2[it - 1]\n",
    "                it -= 1\n",
    "                if it == 0:\n",
    "                    res += arr[a2] * (i - a2) * (a2 + 1)\n",
    "                else:\n",
    "                    res += arr[a2] * (i - a2) * (a2 - all_lst2[it - 1])\n",
    "            all_lst2[it] = i\n",
    "            it += 1\n",
    "        res += arr[all_lst2[0]] * (all_lst2[0] + 1) * (nn - all_lst2[0]) \n",
    "        for i in range(1, it):\n",
    "            res += arr[all_lst2[i]] * (all_lst2[i] - all_lst2[i - 1]) * (nn - all_lst2[i]) \n",
    "        res = res % 1000000007\n",
    "        return res"
   ]
  }
 ],
 "metadata": {
  "kernelspec": {
   "display_name": "Python 3 (ipykernel)",
   "language": "python",
   "name": "python3"
  },
  "language_info": {
   "codemirror_mode": {
    "name": "ipython",
    "version": 3
   },
   "file_extension": ".py",
   "mimetype": "text/x-python",
   "name": "python",
   "nbconvert_exporter": "python",
   "pygments_lexer": "ipython3",
   "version": "3.10.6"
  }
 },
 "nbformat": 4,
 "nbformat_minor": 5
}
